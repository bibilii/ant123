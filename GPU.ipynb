{
 "cells": [
  {
   "metadata": {
    "ExecuteTime": {
     "end_time": "2025-05-17T14:33:09.179848Z",
     "start_time": "2025-05-17T14:33:09.165848Z"
    }
   },
   "cell_type": "code",
   "source": [
    "\n",
    "#      获取GPU的型号和性能参数\n",
    "# -*- coding: utf-8 -*-\n",
    "import os\n",
    "import torch\n",
    "torch.cuda.is_available()"
   ],
   "id": "98d1dc6af6b3f1af",
   "outputs": [
    {
     "data": {
      "text/plain": [
       "True"
      ]
     },
     "execution_count": 2,
     "metadata": {},
     "output_type": "execute_result"
    }
   ],
   "execution_count": 2
  },
  {
   "metadata": {
    "ExecuteTime": {
     "end_time": "2025-05-17T14:33:09.209854Z",
     "start_time": "2025-05-17T14:33:09.196849Z"
    }
   },
   "cell_type": "code",
   "source": [
    "# C:\\Program Files\\NVIDIA GPU Computing Toolkit\\CUDA\\v12.9\\bin\n",
    "# C:\\Program Files\\NVIDIA GPU Computing Toolkit\\CUDA\\v12.9\\libnvvp\n",
    "# C:\\Program Files\\NVIDIA GPU Computing Toolkit\\CUDA\\v12.9\n",
    "# C:\\Program Files\\NVIDIA GPU Computing Toolkit\\CUDA\\v12.9\\lib\\x64"
   ],
   "id": "6dc69bfb487a266c",
   "outputs": [],
   "execution_count": 3
  },
  {
   "metadata": {
    "ExecuteTime": {
     "end_time": "2025-05-17T14:33:09.241214Z",
     "start_time": "2025-05-17T14:33:09.227207Z"
    }
   },
   "cell_type": "code",
   "source": [
    "import torch\n",
    "\n",
    "print(torch.__version__)\n",
    "print(torch.cuda.is_available())\n",
    "print(torch.version.cuda)"
   ],
   "id": "c213da91635f135e",
   "outputs": [
    {
     "name": "stdout",
     "output_type": "stream",
     "text": [
      "2.7.0+cu128\n",
      "True\n",
      "12.8\n"
     ]
    }
   ],
   "execution_count": 4
  },
  {
   "cell_type": "code",
   "id": "0eb6d4a3",
   "metadata": {
    "ExecuteTime": {
     "end_time": "2025-05-17T14:33:09.348935Z",
     "start_time": "2025-05-17T14:33:09.257866Z"
    }
   },
   "source": [
    "# Use nvidia-smi to get GPU details\n",
    "gpu_info = os.popen('nvidia-smi --query-gpu=name,memory.total,memory.used,memory.free --format=csv').read()\n",
    "print(gpu_info)"
   ],
   "outputs": [
    {
     "name": "stdout",
     "output_type": "stream",
     "text": [
      "name, memory.total [MiB], memory.used [MiB], memory.free [MiB]\n",
      "NVIDIA GeForce RTX 4060, 8188 MiB, 950 MiB, 7008 MiB\n",
      "\n"
     ]
    }
   ],
   "execution_count": 5
  },
  {
   "cell_type": "code",
   "id": "c200c2d8",
   "metadata": {
    "ExecuteTime": {
     "end_time": "2025-05-17T14:33:10.371353Z",
     "start_time": "2025-05-17T14:33:09.396415Z"
    }
   },
   "source": [
    "import os\n",
    "import matplotlib.pyplot as plt\n",
    "\n",
    "# 创建保存图片的目录\n",
    "output_dir = os.path.join('.strategy_results', '测试')\n",
    "os.makedirs(output_dir, exist_ok=True)\n",
    "\n",
    "# 绘制并保存 10 张图片\n",
    "for i in range(10):\n",
    "    plt.figure()\n",
    "    plt.plot([j for j in range(100)], [j**2 for j in range(100)])\n",
    "    plt.title(f\"Plot {i+1}\")\n",
    "    plt.xlabel(\"X-axis\")\n",
    "    plt.ylabel(\"Y-axis\")\n",
    "    file_path = os.path.join(output_dir, f\"plot_{i+1}.png\")\n",
    "    plt.savefig(file_path)  # 保存图片\n",
    "    plt.close()  # 关闭图形以释放内存\n",
    "\n",
    "print(f\"Plots saved to {output_dir}\")\n"
   ],
   "outputs": [
    {
     "name": "stdout",
     "output_type": "stream",
     "text": [
      "Plots saved to .strategy_results\\测试\n"
     ]
    }
   ],
   "execution_count": 6
  },
  {
   "cell_type": "code",
   "id": "93d1cf9b426d4599",
   "metadata": {
    "ExecuteTime": {
     "end_time": "2025-05-17T14:33:10.416706Z",
     "start_time": "2025-05-17T14:33:10.402360Z"
    }
   },
   "source": "# 调用显卡，测试显卡的性能",
   "outputs": [],
   "execution_count": 7
  },
  {
   "cell_type": "code",
   "id": "bf7473c5",
   "metadata": {
    "ExecuteTime": {
     "end_time": "2025-05-17T14:33:10.851211Z",
     "start_time": "2025-05-17T14:33:10.433710Z"
    }
   },
   "source": [
    "import torch\n",
    "import time\n",
    "\n",
    "# Check if GPU is available\n",
    "if torch.cuda.is_available():\n",
    "    device = torch.device(\"cuda\")\n",
    "    print(\"GPU is available. Testing performance...\")\n",
    "else:\n",
    "    device = torch.device(\"cpu\")\n",
    "    print(\"GPU is not available. Using CPU.\")\n",
    "\n",
    "# Generate random matrices\n",
    "matrix_size = 10000\n",
    "a = torch.randn(matrix_size, matrix_size, device=device)\n",
    "b = torch.randn(matrix_size, matrix_size, device=device)\n",
    "\n",
    "# Measure time for matrix multiplication\n",
    "start_time = time.time()\n",
    "result = torch.matmul(a, b)\n",
    "torch.cuda.synchronize()  # Ensure all GPU operations are complete\n",
    "end_time = time.time()\n",
    "\n",
    "elapsed_time = end_time - start_time\n",
    "print(f\"Matrix multiplication on {device} took {elapsed_time:.4f} seconds.\")"
   ],
   "outputs": [
    {
     "name": "stdout",
     "output_type": "stream",
     "text": [
      "GPU is available. Testing performance...\n",
      "Matrix multiplication on cuda took 0.2982 seconds.\n"
     ]
    }
   ],
   "execution_count": 8
  },
  {
   "cell_type": "code",
   "id": "1e3b9e83d6c78931",
   "metadata": {
    "ExecuteTime": {
     "end_time": "2025-05-17T14:33:12.882302Z",
     "start_time": "2025-05-17T14:33:10.975563Z"
    }
   },
   "source": [
    "import torch\n",
    "import torchvision\n",
    "import torchaudio\n",
    " \n",
    "print(torch.__version__)\n",
    "print(torchvision.__version__)\n",
    "print(torchaudio.__version__)"
   ],
   "outputs": [
    {
     "name": "stdout",
     "output_type": "stream",
     "text": [
      "2.7.0+cu128\n",
      "0.22.0+cpu\n",
      "2.7.0+cpu\n"
     ]
    }
   ],
   "execution_count": 9
  },
  {
   "cell_type": "code",
   "id": "46cf2e250064c3b0",
   "metadata": {
    "ExecuteTime": {
     "end_time": "2025-05-17T14:33:12.928301Z",
     "start_time": "2025-05-17T14:33:12.913302Z"
    }
   },
   "source": [],
   "outputs": [],
   "execution_count": null
  },
  {
   "cell_type": "code",
   "id": "6d24c73f869ce680",
   "metadata": {
    "ExecuteTime": {
     "end_time": "2025-05-17T14:33:12.959304Z",
     "start_time": "2025-05-17T14:33:12.944302Z"
    }
   },
   "source": [],
   "outputs": [],
   "execution_count": null
  }
 ],
 "metadata": {
  "kernelspec": {
   "display_name": ".venv",
   "language": "python",
   "name": "python3"
  },
  "language_info": {
   "codemirror_mode": {
    "name": "ipython",
    "version": 3
   },
   "file_extension": ".py",
   "mimetype": "text/x-python",
   "name": "python",
   "nbconvert_exporter": "python",
   "pygments_lexer": "ipython3",
   "version": "3.10.10"
  }
 },
 "nbformat": 4,
 "nbformat_minor": 5
}
